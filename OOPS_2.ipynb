{
 "cells": [
  {
   "cell_type": "code",
   "execution_count": 1,
   "id": "49ed0a75",
   "metadata": {},
   "outputs": [
    {
     "name": "stdout",
     "output_type": "stream",
     "text": [
      "Color is:  red\n",
      "isFilled:  False\n",
      "Length of Square:  5\n",
      "Area of Square:  25\n"
     ]
    }
   ],
   "source": [
    "# inheritance --> child class inherit properties from parent class.\n",
    "class Shape :    #parent/Base class\n",
    "    def __init__(self , color , isFilled) :\n",
    "        self.color = color \n",
    "        self.isFilled = isFilled\n",
    "\n",
    "class Square(Shape):                             # this is child class inherits all methods, variables of parent class\n",
    "    def __init__(self ,color , isFilled , length):\n",
    "        super().__init__(color , isFilled)         #super is used to access child parent class\n",
    "        # or Shape.__init__(self , color , isFilled)\n",
    "        self.length = length\n",
    "    \n",
    "    def printShape(self):\n",
    "        print(\"Color is: \" , self.color)\n",
    "        print(\"isFilled: \" , self.isFilled)\n",
    "        print(\"Length of Square: \" , self.length)\n",
    "        print(\"Area of Square: \" , self.length ** 2)\n",
    "    \n",
    "x = Square(\"red\" , False,5 )\n",
    "x.printShape()"
   ]
  },
  {
   "cell_type": "code",
   "execution_count": 2,
   "id": "4b6ff242",
   "metadata": {},
   "outputs": [
    {
     "name": "stdout",
     "output_type": "stream",
     "text": [
      "Color is:  Red\n",
      "isFilled:  False\n",
      "Length of Square:  5\n",
      "Area of Square:  25\n"
     ]
    }
   ],
   "source": [
    "# we cannot access private members in the child class from child class\n",
    "# so to access private members we have to go to parent class and then access the private member \n",
    "# and for that we can create some methods to access private members\n",
    "\n",
    "class Shape :    #parent/Base class\n",
    "    def __init__(self , color , isFilled) :\n",
    "        self.__color = color \n",
    "        self.isFilled = isFilled\n",
    "    def getColor(self):\n",
    "        return self.__color\n",
    "    def setColor(self):\n",
    "        self.__color = color\n",
    "\n",
    "class Square(Shape):                             \n",
    "    def __init__(self ,color , isFilled , length):\n",
    "        super().__init__(color , isFilled)        \n",
    "        self.length = length\n",
    "    \n",
    "    def printShape(self):\n",
    "        print(\"Color is: \" , self.getColor())\n",
    "        print(\"isFilled: \" , self.isFilled)\n",
    "        print(\"Length of Square: \" , self.length)\n",
    "        print(\"Area of Square: \" , self.length ** 2)\n",
    "    \n",
    "x = Square(\"Red\" , False,5 )\n",
    "x.printShape()"
   ]
  },
  {
   "cell_type": "code",
   "execution_count": 3,
   "id": "e9a44c88",
   "metadata": {},
   "outputs": [
    {
     "name": "stdout",
     "output_type": "stream",
     "text": [
      "Color is:  Red\n",
      "isFilled:  False\n",
      "Length of Square:  5\n",
      "Area of Square:  25\n"
     ]
    }
   ],
   "source": [
    "# method overriding \n",
    "# Execution order --> child classes function then parent class\n",
    "\n",
    "class Shape :    #parent/Base class\n",
    "    def __init__(self , color , isFilled) :\n",
    "        self.__color = color \n",
    "        self.isFilled = isFilled\n",
    "    def getColor(self):\n",
    "        return self.__color\n",
    "    def setColor(self):\n",
    "        self.__color = color\n",
    "    def printShape(self) :\n",
    "        print(\"Color is: \" ,self.__color)\n",
    "        print(\"isFilled: \", self.isFilled)\n",
    "        \n",
    "class Square(Shape):                             \n",
    "    def __init__(self ,color , isFilled , length):\n",
    "        super().__init__(color , isFilled)        \n",
    "        self.length = length\n",
    "    \n",
    "    def printShape(self):\n",
    "        super().printShape()                    #super is used to call printShape function of parent class\n",
    "        print(\"Length of Square: \" , self.length)\n",
    "        print(\"Area of Square: \" , self.length ** 2)\n",
    "    \n",
    "x = Square(\"Red\" , False,5 )\n",
    "x.printShape()"
   ]
  },
  {
   "cell_type": "code",
   "execution_count": 4,
   "id": "e8e7cc57",
   "metadata": {},
   "outputs": [
    {
     "name": "stdout",
     "output_type": "stream",
     "text": [
      "Color is:  Red\n",
      "Length of Square:  5\n",
      "Area of Square:  25\n"
     ]
    }
   ],
   "source": [
    "# protected variable ;- in python it is exactly similar to public variables \n",
    "# but if a variable is protected then we should never update its value and try to use protected members as less as possible\n",
    "# single underscore is used before variable to show a protected member \n",
    "class Shape :    \n",
    "    def __init__(self , color , isFilled) :\n",
    "        self._color = color \n",
    "        self.isFilled = isFilled\n",
    "\n",
    "        \n",
    "class Square(Shape):                             \n",
    "    def __init__(self ,color , isFilled , length):\n",
    "        super().__init__(color , isFilled)        \n",
    "        self.length = length\n",
    "    \n",
    "    def printShape(self):\n",
    "        print(\"Color is: \",self._color)                    #super is used to call printShape function of parent class\n",
    "        print(\"Length of Square: \" , self.length)\n",
    "        print(\"Area of Square: \" , self.length ** 2)\n",
    "    \n",
    "x = Square(\"Red\" , False,5 )\n",
    "x.printShape()\n"
   ]
  },
  {
   "cell_type": "code",
   "execution_count": 5,
   "id": "a2d21724",
   "metadata": {},
   "outputs": [
    {
     "name": "stdout",
     "output_type": "stream",
     "text": [
      "this is the circle class which takes radius as an argument.\n"
     ]
    }
   ],
   "source": [
    "#object classes \n",
    "#1. __new__\n",
    "#2.__init__\n",
    "#4. __ str__   --->used to provide description about the class\n",
    "\n",
    "class Circle(object):\n",
    "    def __init__(self , radius):\n",
    "        self.radius = radius\n",
    "    def __str__(self) :\n",
    "        return \"this is the circle class which takes radius as an argument.\"\n",
    "a = Circle(3)\n",
    "print(a)"
   ]
  },
  {
   "cell_type": "code",
   "execution_count": 6,
   "id": "16dd0685",
   "metadata": {},
   "outputs": [
    {
     "name": "stdout",
     "output_type": "stream",
     "text": [
      "Mother name is:  Suman\n",
      "Father name is:  Arjun\n",
      "Child name is:  Rahul\n"
     ]
    }
   ],
   "source": [
    "#Multiple inheriance -->child class inherit properties from multiple parent classes\n",
    "class Father :\n",
    "    def __init__(self , father):\n",
    "        self.father = father\n",
    "class Mother :\n",
    "    def __init__(self , mother):\n",
    "        self.mother = mother\n",
    "class Child(Father ,Mother) :   # --->classes will be given priority based on their order in the  child class.(here father is given priority)\n",
    "    def __init__(self ,mother ,father, child):\n",
    "        super().__init__(father)  \n",
    "        #Father().__init__(self,father)\n",
    "        Mother.__init__(self , mother)\n",
    "        self.child = child\n",
    "    def printNames(self):\n",
    "        print(\"Mother name is: \" , self.mother)\n",
    "        print(\"Father name is: \" , self.father)\n",
    "        print(\"Child name is: \" , self.child)\n",
    "\n",
    "names = Child(\"Suman\" , \"Arjun\" , \"Rahul\")\n",
    "names.printNames()"
   ]
  },
  {
   "cell_type": "code",
   "execution_count": 7,
   "id": "396aa3c2",
   "metadata": {},
   "outputs": [
    {
     "name": "stdout",
     "output_type": "stream",
     "text": [
      "name of the child is:  Ajay\n",
      "[<class '__main__.Child'>, <class '__main__.Father'>, <class '__main__.Mother'>, <class 'object'>]\n"
     ]
    }
   ],
   "source": [
    "# method resolution order \n",
    "class Father :\n",
    "    def __init__(self):\n",
    "        self.name = \"Ajay\"\n",
    "        #super().__init__()\n",
    "    def print(self):\n",
    "        print(\"print of mother called\")\n",
    "        \n",
    "class Mother :\n",
    "    def __init__(self):\n",
    "        self.name = \"Vijay\"\n",
    "    def print(self):\n",
    "        print(\"print of father called\")\n",
    "                \n",
    "class Child(Father ,Mother) :   # --->classes will be given priority based on their order in the  child class.(here father is given priority)\n",
    "    def __init__(self):\n",
    "        super().__init__()  \n",
    "        \n",
    "    def print(self):\n",
    "        print(\"name of the child is: \",self.name)\n",
    "\n",
    "\n",
    "names = Child()\n",
    "names.print()\n",
    "print(Child.mro())"
   ]
  },
  {
   "cell_type": "code",
   "execution_count": 8,
   "id": "157ccf41",
   "metadata": {},
   "outputs": [
    {
     "name": "stdout",
     "output_type": "stream",
     "text": [
      "This Point is at (4,6)\n"
     ]
    }
   ],
   "source": [
    "#operator overloading\n",
    "#visit this -- > https://www.geeksforgeeks.org/operator-overloading-in-python/  operator overloading function present in python\n",
    "import math\n",
    "class Point :\n",
    "    def __init__(self ,p1 , p2):\n",
    "        self.__x = p1\n",
    "        self.__y = p2\n",
    "    \n",
    "    def __str__(self):\n",
    "        return \"This Point is at (\"+ str(self.__x) + \",\" + str(self.__y) + \")\"\n",
    "    def __add__(self , point_object):\n",
    "        return Point(self.__x + point_object.__x , self.__y + point_object.__y)\n",
    "\n",
    "p1 = Point(1,2)\n",
    "p2 = Point(3,4)\n",
    "p3 = p1+p2    \n",
    "print(p3)"
   ]
  },
  {
   "cell_type": "code",
   "execution_count": 15,
   "id": "4356a8d6",
   "metadata": {},
   "outputs": [
    {
     "name": "stdout",
     "output_type": "stream",
     "text": [
      "Color is:  red\n",
      "isFilled:  False\n",
      "Length of Square:  5\n",
      "Area of Square:  25\n"
     ]
    }
   ],
   "source": [
    "# inheritance --> child class inherit properties from parent class.\n",
    "class Shape :    #parent/Base class\n",
    "    def __init__(self , color , isFilled) :\n",
    "        self.color = color \n",
    "        self.isFilled = isFilled\n",
    "\n",
    "class Square(Shape):                             # this is child class inherits all methods, variables of parent class\n",
    "    def __init__(self ,color , isFilled , length):\n",
    "        Shape.__init__(self , color , isFilled)         #super is used to access child parent class\n",
    "        self.length = length\n",
    "    \n",
    "    def printShape(self):\n",
    "        print(\"Color is: \" , self.color)\n",
    "        print(\"isFilled: \" , self.isFilled)\n",
    "        print(\"Length of Square: \" , self.length)\n",
    "        print(\"Area of Square: \" , self.length ** 2)\n",
    "    \n",
    "x = Square(\"red\" , False,5 )\n",
    "x.printShape()"
   ]
  }
 ],
 "metadata": {
  "kernelspec": {
   "display_name": "Python 3 (ipykernel)",
   "language": "python",
   "name": "python3"
  },
  "language_info": {
   "codemirror_mode": {
    "name": "ipython",
    "version": 3
   },
   "file_extension": ".py",
   "mimetype": "text/x-python",
   "name": "python",
   "nbconvert_exporter": "python",
   "pygments_lexer": "ipython3",
   "version": "3.9.7"
  }
 },
 "nbformat": 4,
 "nbformat_minor": 5
}
