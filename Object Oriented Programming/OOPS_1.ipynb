{
 "cells": [
  {
   "cell_type": "code",
   "execution_count": 3,
   "id": "7654cb76",
   "metadata": {},
   "outputs": [],
   "source": [
    "from datetime import date"
   ]
  },
  {
   "cell_type": "code",
   "execution_count": 2,
   "id": "cd5c10a5",
   "metadata": {},
   "outputs": [],
   "source": [
    "class student:\n",
    "    pass                 # we need to write atleast something in order to create a class so we write pass\n",
    "\n",
    "s1 = student()           #create three objects of class student\n",
    "s2 = student()\n",
    "s3 = student()\n",
    "s1.name = \"rahul\" # add some data to the objects\n",
    "s3.name = \"pooja\" \n",
    "s1.roll_no = 12\n",
    "s2.roll_no = 13"
   ]
  },
  {
   "cell_type": "code",
   "execution_count": 3,
   "id": "c89c068c",
   "metadata": {},
   "outputs": [
    {
     "data": {
      "text/plain": [
       "{'name': 'rahul', 'roll_no': 12}"
      ]
     },
     "execution_count": 3,
     "metadata": {},
     "output_type": "execute_result"
    }
   ],
   "source": [
    "s1.__dict__  #all the attributes are stored in the form of dictionary, here we can see our class has two attributes"
   ]
  },
  {
   "cell_type": "code",
   "execution_count": 4,
   "id": "7036c57d",
   "metadata": {},
   "outputs": [
    {
     "name": "stdout",
     "output_type": "stream",
     "text": [
      "{'roll_no': 13}\n"
     ]
    }
   ],
   "source": [
    "print(s2.__dict__) # s2 object has only roll number therefore throwing error that student has no attribute name\n",
    "# s2.name"
   ]
  },
  {
   "cell_type": "code",
   "execution_count": 5,
   "id": "e9dc7c93",
   "metadata": {},
   "outputs": [
    {
     "name": "stdout",
     "output_type": "stream",
     "text": [
      "True\n",
      "False\n",
      "True\n"
     ]
    }
   ],
   "source": [
    "#hasattr(object_name , attr_name) it returns boolean value if attribute attr_name is present in the object class_name \n",
    "print(hasattr(s1 , \"name\"))\n",
    "print(hasattr(s2 , \"name\")) #s2 object does not have \"name\" attribute therfore it returns false\n",
    "print(hasattr(s3 , \"name\"))"
   ]
  },
  {
   "cell_type": "code",
   "execution_count": 6,
   "id": "4e4fc16a",
   "metadata": {},
   "outputs": [
    {
     "name": "stdout",
     "output_type": "stream",
     "text": [
      "rahul\n",
      "attribute is not present\n",
      "pooja\n"
     ]
    }
   ],
   "source": [
    "#getattr(object_name , attr_name , \"return if attrname is not present\") it return the value of the attribute attr_name of the object object_name\n",
    "print(getattr(s1 , \"name\"))\n",
    "print(getattr(s2 , \"name\" , \"attribute is not present\"))\n",
    "print(getattr(s3 , \"name\" ))"
   ]
  },
  {
   "cell_type": "code",
   "execution_count": 7,
   "id": "b3818079",
   "metadata": {},
   "outputs": [
    {
     "data": {
      "text/plain": [
       "{'name': 'rahul'}"
      ]
     },
     "execution_count": 7,
     "metadata": {},
     "output_type": "execute_result"
    }
   ],
   "source": [
    "#delattr(obj_name , attr_name) it delets the attribute attr_name from the object obj name\n",
    "delattr(s1 , \"roll_no\")\n",
    "s1.__dict__  "
   ]
  },
  {
   "cell_type": "markdown",
   "id": "8be96818",
   "metadata": {},
   "source": [
    "#### Type of attributes\n",
    "1.class attributes : attribute which are create in the class itself <br>\n",
    "2.instance attribute : attributes which are created for individual objects of the class <br>\n",
    "Instance attribute is accessed prior to class attribute from object of a class"
   ]
  },
  {
   "cell_type": "code",
   "execution_count": 8,
   "id": "90803bbf",
   "metadata": {},
   "outputs": [
    {
     "name": "stdout",
     "output_type": "stream",
     "text": [
      "rahul\n",
      "amit\n"
     ]
    }
   ],
   "source": [
    "class name:\n",
    "    name = \"rahul\" # class_attribute\n",
    "s1 = name() #this will bydefault contain name atrribute with the value name =rahul\n",
    "s2 = name()\n",
    "s1.age = 25 # instance attribute created for s2 object\n",
    "print(s1.name)\n",
    "s2.name = \"amit\"\n",
    "print(s2.name) # instance object has priority"
   ]
  },
  {
   "cell_type": "markdown",
   "id": "38282e54",
   "metadata": {},
   "source": [
    "### Methods of a class\n",
    "Self: whatever object is passed will be stored in self<br>\n",
    "Every instance method in a class requires a self parameter<br>\n",
    "1. Static Methods :But if we dont want to use self then we need to define a decorator @staticmethod before the method<br>\n",
    "2. Factory Methods : Return object of a class and decorator @classmethod is used before the method"
   ]
  },
  {
   "cell_type": "code",
   "execution_count": 9,
   "id": "1ed309b9",
   "metadata": {},
   "outputs": [
    {
     "name": "stdout",
     "output_type": "stream",
     "text": [
      "student is failed\n",
      "Welcome! to School\n"
     ]
    }
   ],
   "source": [
    "class stud :\n",
    "    passingPercentage = 40\n",
    "    def studentDetails(self) :  #this is an instance method\n",
    "        self.name  = \"rahul\"\n",
    "        self.percentage = 35\n",
    "    def isPassed(self):\n",
    "        if self.percentage > stud.passingPercentage :\n",
    "            print(\"student is passed\" )\n",
    "        else:\n",
    "            print(\"student is failed\")  \n",
    "            \n",
    "    @staticmethod\n",
    "    def welcomeToSchool() :     #static method\n",
    "        print(\"Welcome! to School\")\n",
    "        \n",
    "        \n",
    "\n",
    "s1 = stud()\n",
    "s1.studentDetails()\n",
    "s1.isPassed()\n",
    "s1.welcomeToSchool()"
   ]
  },
  {
   "cell_type": "markdown",
   "id": "5830c89f",
   "metadata": {},
   "source": [
    "__init__(self) = init method is called immediately every object is created"
   ]
  },
  {
   "cell_type": "code",
   "execution_count": 10,
   "id": "170229d5",
   "metadata": {},
   "outputs": [
    {
     "name": "stdout",
     "output_type": "stream",
     "text": [
      "Area of Rectangle is: 20 "
     ]
    }
   ],
   "source": [
    "class Rectangle :\n",
    "    def __init__(self , length ,breath) :\n",
    "        self.length = length\n",
    "        self.breath = breath\n",
    "    def Area(self):\n",
    "        self.area = self.length * self.breath\n",
    "        print(\"Area of Rectangle is:\" ,self.area , end=\" \")\n",
    "s1 = Rectangle(5,4)\n",
    "s1.__dict__\n",
    "s1.Area()"
   ]
  },
  {
   "cell_type": "code",
   "execution_count": 9,
   "id": "8faa5793",
   "metadata": {},
   "outputs": [
    {
     "name": "stdout",
     "output_type": "stream",
     "text": [
      "Name:  rahul\n",
      "Age:  25\n",
      "Percentage:  78\n"
     ]
    }
   ],
   "source": [
    "#factory methods\n",
    "class stud :\n",
    "    def __init__(self ,name=\"rahul\",age= 25,percentage=77):\n",
    "        self.name = name \n",
    "        self.age =age\n",
    "        self.percentage = percentage \n",
    "        \n",
    "    @classmethod   # factory method\n",
    "    def fromBirthYear(class_name , name, birthYear, percentage) :\n",
    "        return class_name(name , date.today().year -birthYear , percentage)\n",
    "    \n",
    "    def studentDetails(self) : \n",
    "        print(\"Name: \" ,self.name)\n",
    "        print(\"Age: \",self.age)\n",
    "        print(\"Percentage: \", self.percentage)\n",
    "    \n",
    "    def isPassed(self):\n",
    "        if self.percentage > stud.passingPercentage :\n",
    "            print(\"student is passed\" )\n",
    "        else:\n",
    "            print(\"student is failed\")  \n",
    "            \n",
    "    @staticmethod\n",
    "    def welcomeToSchool() :     #static method\n",
    "        print(\"Welcome! to School\")\n",
    "\n",
    "s1 = stud(\"rahul\")\n",
    "s2 = stud.fromBirthYear(\"rahul\" ,1998 , 78)\n",
    "s2.studentDetails()"
   ]
  },
  {
   "cell_type": "markdown",
   "id": "4a657600",
   "metadata": {},
   "source": [
    "#### Private and Public Modifiers <br>\n",
    "Public Variables : Everything we have done till now is public i.e we can change the attribute value outside the class i.e s1.name = \"amit\"<br>\n",
    "Private Variables : are defined like __attributename and these cannot be accessed outside the class"
   ]
  },
  {
   "cell_type": "code",
   "execution_count": 12,
   "id": "4eb6d554",
   "metadata": {},
   "outputs": [
    {
     "name": "stdout",
     "output_type": "stream",
     "text": [
      "Name:  rahul\n",
      "Age:  25\n",
      "Percentage:  77\n",
      "rahul\n"
     ]
    }
   ],
   "source": [
    "class stud :\n",
    "    def __init__(self ,name=\"rahul\",age= 25,percentage=77):\n",
    "        self.__name = name             # private attribute\n",
    "        self.age =age\n",
    "        self.percentage = percentage \n",
    "    \n",
    "    def studentDetails(self) : \n",
    "        print(\"Name: \" ,self.__name)\n",
    "        print(\"Age: \",self.age)\n",
    "        print(\"Percentage: \", self.percentage)\n",
    "\n",
    "s1 = stud()\n",
    "s1.studentDetails()\n",
    "#s1.name  #this will give an error because name is private attribute\n",
    "#in order to access the  private attributes we use following pattern --> (objectname._classname__attributename)\n",
    "print(s1._stud__name)"
   ]
  },
  {
   "cell_type": "code",
   "execution_count": 52,
   "id": "526aa471",
   "metadata": {},
   "outputs": [
    {
     "name": "stdout",
     "output_type": "stream",
     "text": [
      "11  /  6\n"
     ]
    }
   ],
   "source": [
    "#oop 1.12,13,14\n",
    "class Fraction:\n",
    "    def __init__(self, num = 0, den = 1):\n",
    "        if den == 0 :\n",
    "            # throw error\n",
    "            den = 1\n",
    "        self.num = num \n",
    "        self.den = den \n",
    "        \n",
    "    def print(self):\n",
    "        if self.num == 0 :\n",
    "            print(0)\n",
    "        elif self.den == 1 :\n",
    "            print(self.num)\n",
    "        else:\n",
    "            print(self.num , \" / \" , self.den)\n",
    "    \n",
    "    def simplify(self):\n",
    "        if self.num == 0 :\n",
    "            self.den = 1\n",
    "            return\n",
    "        current = min(self.num ,self.den)\n",
    "        while current > 1:\n",
    "            if self.num % current == 0 and self.den % current == 0 :\n",
    "                break\n",
    "            current -= 1\n",
    "        self.num = self.num // current \n",
    "        self.den = self.den // current \n",
    "    \n",
    "    def add(self, otherFraction): # f1's values are passed in self and f2 as otherFraction\n",
    "        newNum = otherFraction.den * self.num + self.den * otherFraction.num\n",
    "        newDen = self.den * otherFraction.den\n",
    "        \n",
    "        self.num = newNum\n",
    "        self.den = newDen \n",
    "        self.simplify()\n",
    "        self.print()\n",
    "        \n",
    "f1 = Fraction(12,8)\n",
    "f2 = Fraction(1,3)\n",
    "f1.add(f2)"
   ]
  },
  {
   "cell_type": "code",
   "execution_count": null,
   "id": "eedb33b5",
   "metadata": {},
   "outputs": [],
   "source": []
  }
 ],
 "metadata": {
  "kernelspec": {
   "display_name": "Python 3 (ipykernel)",
   "language": "python",
   "name": "python3"
  },
  "language_info": {
   "codemirror_mode": {
    "name": "ipython",
    "version": 3
   },
   "file_extension": ".py",
   "mimetype": "text/x-python",
   "name": "python",
   "nbconvert_exporter": "python",
   "pygments_lexer": "ipython3",
   "version": "3.9.7"
  }
 },
 "nbformat": 4,
 "nbformat_minor": 5
}
