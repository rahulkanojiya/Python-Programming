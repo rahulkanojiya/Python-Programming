{
 "cells": [
  {
   "cell_type": "markdown",
   "id": "c86b5ba1",
   "metadata": {},
   "source": [
    "#### Abstract Classes \n",
    "A class is called an Abstract class if it contains one or more abstract methods. <br>\n",
    "An abstract method is a method that is declared, but contains no implementation. <br>\n",
    "There must be all the method of abstract class present in its child class (if not error will be thrown).<br>\n",
    "Object of abstract class cannot be created, and its abstract methods must be implemented by its child classes."
   ]
  },
  {
   "cell_type": "code",
   "execution_count": 21,
   "id": "218c7802",
   "metadata": {},
   "outputs": [
    {
     "name": "stdout",
     "output_type": "stream",
     "text": [
      "Automobile Created\n",
      "5\n"
     ]
    }
   ],
   "source": [
    "from abc import ABC, abstractmethod\n",
    "\n",
    "class Automobile(ABC) :\n",
    "    def __init__(self , numberOfWheels):\n",
    "        self.numberOfWheels = numberOfWheels\n",
    "        print(\"Automobile Created\")\n",
    "    \n",
    "    @abstractmethod\n",
    "    def start(self):\n",
    "        pass\n",
    "    @abstractmethod\n",
    "    def stop(self):\n",
    "        pass\n",
    "    @abstractmethod\n",
    "    def drive(self):\n",
    "        pass\n",
    "    \n",
    "class Car(Automobile):\n",
    "    def __init__(self,name, numberOfWheels):\n",
    "        print(\"Car Created\")\n",
    "        self.name = name\n",
    "    \n",
    "    def start(self):\n",
    "        pass\n",
    "    \n",
    "    def stop(self):\n",
    "        pass\n",
    "    \n",
    "    def drive(self):\n",
    "        pass\n",
    "    \n",
    "# x = Automobile()   #abstract class cannot be instantiated\n",
    "y = Car(\"Honda\")   #now it car class can be accessed because all the methods of the abstract class are created in the Car class\n",
    "\n",
    " "
   ]
  },
  {
   "cell_type": "code",
   "execution_count": 26,
   "id": "b01b6ffe",
   "metadata": {},
   "outputs": [
    {
     "name": "stdout",
     "output_type": "stream",
     "text": [
      "Automobile Created\n",
      "Number of wheels are:  4\n"
     ]
    }
   ],
   "source": [
    "# if there is no init in child class then parents class's init will be called\n",
    "from abc import ABC, abstractmethod\n",
    "\n",
    "class Automobile(ABC) :\n",
    "    def __init__(self , numberOfWheels):\n",
    "        self.numberOfWheels = numberOfWheels\n",
    "        print(\"Automobile Created\")\n",
    "    \n",
    "    @abstractmethod\n",
    "    def start(self):\n",
    "        pass\n",
    "    @abstractmethod\n",
    "    def stop(self):\n",
    "        pass\n",
    "    @abstractmethod\n",
    "    def drive(self):\n",
    "        pass\n",
    "    @abstractmethod\n",
    "    def getNumberOfWheels(self):\n",
    "        return self.numberOfWheels\n",
    "    \n",
    "class Car(Automobile):\n",
    "    \n",
    "    def start(self):\n",
    "        pass\n",
    "    \n",
    "    def stop(self):\n",
    "        pass\n",
    "    \n",
    "    def drive(self):\n",
    "        pass\n",
    "    def getNumberOfWheels(self):\n",
    "        print(\"Number of wheels are: \" , super().getNumberOfWheels())\n",
    "    \n",
    "# x = Automobile()   #abstract class cannot be instantiated\n",
    "y = Car(4)   \n",
    "y.getNumberOfWheels()\n",
    " "
   ]
  },
  {
   "cell_type": "markdown",
   "id": "c719d8da",
   "metadata": {},
   "source": [
    "#### Error and exceptions\n",
    "1. Syntax error \n",
    "2. Logical errors: divide by zero errors, type errors"
   ]
  },
  {
   "cell_type": "code",
   "execution_count": 36,
   "id": "8941920c",
   "metadata": {},
   "outputs": [
    {
     "name": "stdout",
     "output_type": "stream",
     "text": [
      "Enter the numberator: ra\n",
      "Numberator and Denominator must be Integer\n",
      "Enter the numberator: \n",
      "Numberator and Denominator must be Integer\n",
      "Enter the numberator: 7\n",
      "Enter the denominator: r\n",
      "Numberator and Denominator must be Integer\n",
      "Enter the numberator: 8\n",
      "Enter the denominator: 2\n",
      "4.0\n"
     ]
    }
   ],
   "source": [
    "while True:\n",
    "    try :\n",
    "        num = int(input(\"Enter the numberator: \"))\n",
    "        den = int(input(\"Enter the denominator: \"))\n",
    "        value = num / den\n",
    "        print(value)\n",
    "        break\n",
    "    except ValueError:\n",
    "        print(\"Numberator and Denominator must be Integer\")"
   ]
  },
  {
   "cell_type": "code",
   "execution_count": 39,
   "id": "d60c2608",
   "metadata": {},
   "outputs": [
    {
     "name": "stdout",
     "output_type": "stream",
     "text": [
      "Enter the numberator: 7\n",
      "Enter the denominator: 3\n",
      "2\n"
     ]
    }
   ],
   "source": [
    "# Handling multile errors \n",
    "while True:\n",
    "    try :\n",
    "        num = int(input(\"Enter the numberator: \"))\n",
    "        den = int(input(\"Enter the denominator: \"))\n",
    "        value = num / den\n",
    "        print(value)\n",
    "        break\n",
    "    except ValueError:\n",
    "        print(\"Numberator and Denominator must be Integer\")\n",
    "    except ZeroDivisionError:\n",
    "        print(\"Denominator cannot be zero\")"
   ]
  },
  {
   "cell_type": "code",
   "execution_count": 2,
   "id": "a898ba29",
   "metadata": {},
   "outputs": [
    {
     "name": "stdout",
     "output_type": "stream",
     "text": [
      "Enter the numberator: 3\n",
      "Enter the denominator: 2\n",
      "1.5\n"
     ]
    }
   ],
   "source": [
    "#Raising exeption\n",
    "while True:\n",
    "    try :\n",
    "        num = int(input(\"Enter the numberator: \"))\n",
    "        den = int(input(\"Enter the denominator: \"))\n",
    "        if den == 0:\n",
    "            raise ZeroDivisionError\n",
    "        value = num / den\n",
    "        print(value)\n",
    "        break\n",
    "    except ValueError:\n",
    "        print(\"Numberator and Denominator must be Integer\")\n",
    "    except ZeroDivisionError:\n",
    "        print(\"Denominator can not be zero\")"
   ]
  },
  {
   "cell_type": "code",
   "execution_count": 5,
   "id": "d21395a0",
   "metadata": {},
   "outputs": [
    {
     "name": "stdout",
     "output_type": "stream",
     "text": [
      "Enter the numberator: 3\n",
      "Enter the denominator: 5\n",
      "0.6\n"
     ]
    }
   ],
   "source": [
    "#Custom Exceptions\n",
    "class ZeroDenominatorError(Exception) : #create your own exceptions\n",
    "    pass\n",
    "while True:\n",
    "    try :\n",
    "        num = int(input(\"Enter the numberator: \"))\n",
    "        den = int(input(\"Enter the denominator: \"))\n",
    "        if den == 0:\n",
    "            raise ZeroDenominatorError(\"Denominator should not be zero.\")\n",
    "        value = num / den\n",
    "        print(value)\n",
    "        break\n",
    "    except ValueError:\n",
    "        print(\"Numberator and Denominator must be Integer.\")\n",
    "    except ZeroDivisionError:\n",
    "        print(\"Division by zero is not allowed.\")\n",
    "    except ZeroDenominatorError :\n",
    "        print(\"zero denominator error is raised.\")\n",
    "    except :\n",
    "        print(\"some error is raised.\")"
   ]
  },
  {
   "cell_type": "code",
   "execution_count": 8,
   "id": "eeb84e8c",
   "metadata": {},
   "outputs": [
    {
     "name": "stdout",
     "output_type": "stream",
     "text": [
      "Enter the numberator: 2\n",
      "Enter the denominator: 0\n",
      "zero denominator error is raised.\n",
      "exception may or may not have raised.\n",
      "Enter the numberator: 2\n",
      "Enter the denominator: 3\n",
      "0.6666666666666666\n",
      "exception may or may not have raised.\n"
     ]
    }
   ],
   "source": [
    "#else -> will come if no exception is raised \n",
    "#finally -> will come after try ->except ->else ->finally\n",
    "#finally block will always be executed \n",
    "class ZeroDenominatorError(Exception) : #create your own exceptions\n",
    "    pass\n",
    "while True:\n",
    "    try :\n",
    "        num = int(input(\"Enter the numberator: \"))\n",
    "        den = int(input(\"Enter the denominator: \"))\n",
    "        if den == 0:\n",
    "            raise ZeroDenominatorError(\"Denominator should not be zero.\")\n",
    "        value = num / den\n",
    "    except ValueError:\n",
    "        print(\"Numberator and Denominator must be Integer.\")\n",
    "    except ZeroDivisionError:\n",
    "        print(\"Division by zero is not allowed.\")\n",
    "    except ZeroDenominatorError :\n",
    "        print(\"zero denominator error is raised.\")\n",
    "    except :\n",
    "        print(\"some error is raised.\")\n",
    "    else :\n",
    "        print(value)\n",
    "        break\n",
    "    finally :\n",
    "        print(\"exception may or may not have raised.\")\n",
    "        "
   ]
  },
  {
   "cell_type": "code",
   "execution_count": 29,
   "id": "676f15c5",
   "metadata": {},
   "outputs": [
    {
     "ename": "IndexError",
     "evalue": "list assignment index out of range",
     "output_type": "error",
     "traceback": [
      "\u001b[1;31m---------------------------------------------------------------------------\u001b[0m",
      "\u001b[1;31mIndexError\u001b[0m                                Traceback (most recent call last)",
      "\u001b[1;32mC:\\Users\\RBHUAD~1\\AppData\\Local\\Temp/ipykernel_26376/1755577136.py\u001b[0m in \u001b[0;36m<module>\u001b[1;34m\u001b[0m\n\u001b[0;32m     15\u001b[0m \u001b[1;33m\u001b[0m\u001b[0m\n\u001b[0;32m     16\u001b[0m \u001b[0mx\u001b[0m \u001b[1;33m=\u001b[0m \u001b[0mSolution\u001b[0m\u001b[1;33m(\u001b[0m\u001b[1;33m)\u001b[0m\u001b[1;33m\u001b[0m\u001b[1;33m\u001b[0m\u001b[0m\n\u001b[1;32m---> 17\u001b[1;33m \u001b[0mprint\u001b[0m\u001b[1;33m(\u001b[0m\u001b[0mx\u001b[0m\u001b[1;33m.\u001b[0m\u001b[0mremoveElement\u001b[0m\u001b[1;33m(\u001b[0m\u001b[1;33m[\u001b[0m\u001b[1;36m0\u001b[0m\u001b[1;33m,\u001b[0m\u001b[1;36m1\u001b[0m\u001b[1;33m,\u001b[0m\u001b[1;36m2\u001b[0m\u001b[1;33m,\u001b[0m\u001b[1;36m2\u001b[0m\u001b[1;33m,\u001b[0m\u001b[1;36m3\u001b[0m\u001b[1;33m,\u001b[0m\u001b[1;36m0\u001b[0m\u001b[1;33m,\u001b[0m\u001b[1;36m4\u001b[0m\u001b[1;33m,\u001b[0m\u001b[1;36m2\u001b[0m\u001b[1;33m]\u001b[0m \u001b[1;33m,\u001b[0m \u001b[1;36m2\u001b[0m\u001b[1;33m)\u001b[0m\u001b[1;33m)\u001b[0m\u001b[1;33m\u001b[0m\u001b[1;33m\u001b[0m\u001b[0m\n\u001b[0m",
      "\u001b[1;32mC:\\Users\\RBHUAD~1\\AppData\\Local\\Temp/ipykernel_26376/1755577136.py\u001b[0m in \u001b[0;36mremoveElement\u001b[1;34m(self, nums, val)\u001b[0m\n\u001b[0;32m      8\u001b[0m                 \u001b[0mlength\u001b[0m \u001b[1;33m=\u001b[0m \u001b[0mlength\u001b[0m \u001b[1;33m-\u001b[0m \u001b[1;36m1\u001b[0m\u001b[1;33m\u001b[0m\u001b[1;33m\u001b[0m\u001b[0m\n\u001b[0;32m      9\u001b[0m                 \u001b[1;32mfor\u001b[0m \u001b[0mj\u001b[0m \u001b[1;32min\u001b[0m \u001b[0mrange\u001b[0m\u001b[1;33m(\u001b[0m\u001b[0mlength\u001b[0m\u001b[1;33m)\u001b[0m\u001b[1;33m:\u001b[0m\u001b[1;33m\u001b[0m\u001b[1;33m\u001b[0m\u001b[0m\n\u001b[1;32m---> 10\u001b[1;33m                     \u001b[0mnums\u001b[0m\u001b[1;33m[\u001b[0m\u001b[0mk\u001b[0m\u001b[1;33m]\u001b[0m \u001b[1;33m=\u001b[0m \u001b[0mnums\u001b[0m\u001b[1;33m[\u001b[0m\u001b[0mj\u001b[0m\u001b[1;33m]\u001b[0m\u001b[1;33m\u001b[0m\u001b[1;33m\u001b[0m\u001b[0m\n\u001b[0m\u001b[0;32m     11\u001b[0m                     \u001b[0mk\u001b[0m \u001b[1;33m=\u001b[0m \u001b[0mk\u001b[0m \u001b[1;33m+\u001b[0m \u001b[1;36m1\u001b[0m\u001b[1;33m\u001b[0m\u001b[1;33m\u001b[0m\u001b[0m\n\u001b[0;32m     12\u001b[0m         \u001b[1;32mreturn\u001b[0m \u001b[0mlength\u001b[0m \u001b[1;33m,\u001b[0m \u001b[0mnums\u001b[0m\u001b[1;33m\u001b[0m\u001b[1;33m\u001b[0m\u001b[0m\n",
      "\u001b[1;31mIndexError\u001b[0m: list assignment index out of range"
     ]
    }
   ],
   "source": [
    "class Solution:\n",
    "    def removeElement(self, nums, val) -> int:\n",
    "        length = len(nums)\n",
    "        for i in range(length):\n",
    "            if(nums[i] == val):\n",
    "                j = i + 1 \n",
    "                k = i\n",
    "                length = length - 1\n",
    "                for j in range(length):\n",
    "                    nums[k] = nums[j]\n",
    "                    k = k + 1\n",
    "        return length , nums\n",
    "                \n",
    "                \n",
    "                                          \n",
    "x = Solution()\n",
    "print(x.removeElement([0,1,2,2,3,0,4,2] , 2))"
   ]
  },
  {
   "cell_type": "code",
   "execution_count": 22,
   "id": "5acdf97d",
   "metadata": {},
   "outputs": [
    {
     "data": {
      "text/plain": [
       "list"
      ]
     },
     "execution_count": 22,
     "metadata": {},
     "output_type": "execute_result"
    }
   ],
   "source": []
  }
 ],
 "metadata": {
  "kernelspec": {
   "display_name": "Python 3 (ipykernel)",
   "language": "python",
   "name": "python3"
  },
  "language_info": {
   "codemirror_mode": {
    "name": "ipython",
    "version": 3
   },
   "file_extension": ".py",
   "mimetype": "text/x-python",
   "name": "python",
   "nbconvert_exporter": "python",
   "pygments_lexer": "ipython3",
   "version": "3.9.7"
  }
 },
 "nbformat": 4,
 "nbformat_minor": 5
}
